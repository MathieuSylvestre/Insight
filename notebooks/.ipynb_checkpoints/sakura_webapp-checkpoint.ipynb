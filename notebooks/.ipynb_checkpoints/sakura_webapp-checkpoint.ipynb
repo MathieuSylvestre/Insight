{
 "cells": [
  {
   "cell_type": "code",
   "execution_count": 14,
   "metadata": {},
   "outputs": [],
   "source": [
    "from IPython.display import display\n",
    "from ipywidgets import interact, interactive, fixed, interact_manual\n",
    "from ipywidgets import GridspecLayout, Button, Layout\n",
    "import ipywidgets as widgets\n",
    "import datetime as dt\n",
    "from datetime import timedelta\n",
    "import numpy as np\n",
    "import matplotlib.pyplot as plt\n",
    "import matplotlib.dates as mdates"
   ]
  },
  {
   "cell_type": "code",
   "execution_count": 15,
   "metadata": {},
   "outputs": [],
   "source": [
    "city_dropdown = widgets.Dropdown(\n",
    "    options=[('Kyoto','japan/Kyoto'), ('Toronto', 'canada/Toronto'), ('Washington','usa/Washington')],\n",
    "    value='japan/Kyoto',\n",
    "    description='City:',\n",
    "    disabled=False,\n",
    ")"
   ]
  },
  {
   "cell_type": "code",
   "execution_count": 16,
   "metadata": {},
   "outputs": [],
   "source": [
    "previous_city = ''"
   ]
  },
  {
   "cell_type": "code",
   "execution_count": 37,
   "metadata": {},
   "outputs": [],
   "source": [
    "def make_predictions():\n",
    "    country_city = city_dropdown.value\n",
    "    #Next level - update data every day (once, at midnight, for the set of cities I use)\n",
    "\n",
    "    #Next level - go scrape data each time you choose a location (doesn't need to be from list)\n",
    "    #get weather of 50 previous days from Washington\n",
    "\n",
    "        #scrape weather data from desired location\n",
    "        #process data\n",
    "        #get predictions of past 10 days\n",
    "\n",
    "    #For now: show predictions for each city that are stored in memory\n",
    "    city = country_city.split(r'/',1)[1]\n",
    "\n",
    "    #TODO: lookup predictions for selected city\n",
    "    x = np.arange(50)\n",
    "    y = np.flip(np.arange(50))+np.ones(50)*16\n",
    "    \n",
    "    return city,x,y\n",
    "\n",
    "def plot_predicitions(city,x,y,number_of_predictions = 10):\n",
    "    print('Showing ' + str(number_of_predictions) + ' most recent predictions for ' + city)\n",
    "\n",
    "    #show plot of recent predictions\n",
    "    plt.scatter(x[len(x)-number_of_predictions:],y[len(x)-number_of_predictions:])\n",
    "    #plt.xlabel('Days')\n",
    "    plt.ylabel('Predicted number of to Peak Bloom')\n",
    "\n",
    "    plt.gca().xaxis.set_major_formatter(mdates.DateFormatter('%d %B'))#(mdates.DateFormatter('%m/%d/%Y'))\n",
    "    plt.gca().xaxis.set_major_locator(mdates.DayLocator())\n",
    "\n",
    "    #plt.plot(x,y)\n",
    "    #plt.figure(figsize=(20,10))\n",
    "\n",
    "    #TODO: compute offset for x to align with dates?\n",
    "    plt.scatter(x[len(x)-number_of_predictions:],y[len(x)-number_of_predictions:])\n",
    "    plt.gcf().autofmt_xdate()\n",
    "    plt.show()\n",
    "    \n",
    "    predicted_date = dt.date.today() + timedelta(days = int(y[-1]))\n",
    "    print('Upcoming peak bloom in ' + city + ' expected on ' + predicted_date.strftime(\"%d %B, %Y\"))"
   ]
  },
  {
   "cell_type": "code",
   "execution_count": 38,
   "metadata": {},
   "outputs": [],
   "source": [
    "layout = widgets.Layout(width='auto', height='40px') #set width and height\n",
    "\n",
    "out = widgets.Output(layout={'border': '1px solid black'})\n",
    "\n",
    "btn_show_predictions = widgets.Button(\n",
    "    description='Show Recent Predictions',\n",
    "    disabled=False,\n",
    "    display='flex',\n",
    "    flex_flow='column',\n",
    "    align_items='stretch', \n",
    "    layout = layout\n",
    ")"
   ]
  },
  {
   "cell_type": "code",
   "execution_count": 39,
   "metadata": {},
   "outputs": [],
   "source": [
    "def on_btn_show_predictions_clicked(b):\n",
    "    #if previous_city != city_dropdown.value:\n",
    "\n",
    "    #Do something here\n",
    "    with out:\n",
    "        city,x,y = make_predictions()        \n",
    "        plot_predicitions(city,x,y)\n",
    "        #update previous city\n",
    "        #previous_city = city_dropdown.value\n",
    "\n",
    "        out.clear_output(wait=True)"
   ]
  },
  {
   "cell_type": "code",
   "execution_count": 40,
   "metadata": {},
   "outputs": [],
   "source": [
    "btn_show_predictions.on_click(on_btn_show_predictions_clicked)"
   ]
  },
  {
   "cell_type": "code",
   "execution_count": 41,
   "metadata": {},
   "outputs": [
    {
     "data": {
      "application/vnd.jupyter.widget-view+json": {
       "model_id": "4cb2b7c42f244f7898e6951fa78ab92c",
       "version_major": 2,
       "version_minor": 0
      },
      "text/plain": [
       "Dropdown(description='City:', index=1, options=(('Kyoto', 'japan/Kyoto'), ('Toronto', 'canada/Toronto'), ('Was…"
      ]
     },
     "metadata": {},
     "output_type": "display_data"
    },
    {
     "data": {
      "application/vnd.jupyter.widget-view+json": {
       "model_id": "b1aa91dd154448a1937775839e05369d",
       "version_major": 2,
       "version_minor": 0
      },
      "text/plain": [
       "Button(description='Show Recent Predictions', layout=Layout(height='40px', width='auto'), style=ButtonStyle())"
      ]
     },
     "metadata": {},
     "output_type": "display_data"
    },
    {
     "data": {
      "application/vnd.jupyter.widget-view+json": {
       "model_id": "fb904ca062ec42889f5cac4457135972",
       "version_major": 2,
       "version_minor": 0
      },
      "text/plain": [
       "Output(layout=Layout(border='1px solid black'))"
      ]
     },
     "metadata": {},
     "output_type": "display_data"
    }
   ],
   "source": [
    "display(city_dropdown)\n",
    "display(btn_show_predictions)\n",
    "display(out)"
   ]
  }
 ],
 "metadata": {
  "kernelspec": {
   "display_name": "Python 3",
   "language": "python",
   "name": "python3"
  },
  "language_info": {
   "codemirror_mode": {
    "name": "ipython",
    "version": 3
   },
   "file_extension": ".py",
   "mimetype": "text/x-python",
   "name": "python",
   "nbconvert_exporter": "python",
   "pygments_lexer": "ipython3",
   "version": "3.6.8"
  }
 },
 "nbformat": 4,
 "nbformat_minor": 2
}
