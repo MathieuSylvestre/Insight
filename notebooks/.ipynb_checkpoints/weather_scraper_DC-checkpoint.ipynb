{
 "cells": [
  {
   "cell_type": "code",
   "execution_count": 126,
   "metadata": {},
   "outputs": [],
   "source": [
    "import os\n",
    "from datetime import datetime, timedelta\n",
    "from urllib.request import Request, urlopen\n",
    "from random import sample \n",
    "import time"
   ]
  },
  {
   "cell_type": "code",
   "execution_count": 127,
   "metadata": {},
   "outputs": [],
   "source": [
    "begin_date = '1999-09-01'\n",
    "end_date = '1999-12-10'"
   ]
  },
  {
   "cell_type": "code",
   "execution_count": 128,
   "metadata": {},
   "outputs": [],
   "source": [
    "Measurements = ['Minimum Temperature','Mean Temperature','Maximum Temperature',\n",
    "                'Mean Sea Level Pressure','Mean Dew Point','Total Precipitation',\n",
    "                'Visibility','Snow Depth','Mean Wind Speed','Maximum Sustained Wind Speed',\n",
    "                'Maximum Wind Gust']"
   ]
  },
  {
   "cell_type": "code",
   "execution_count": null,
   "metadata": {},
   "outputs": [],
   "source": [
    "def scrape_weather(begin_date, end_date, Measurements, UAs):\n",
    "    current_date = datetime.strptime(begin_date, \"%Y-%m-%d\")\n",
    "    end_date = datetime.strptime(end_date, \"%Y-%m-%d\")+timedelta(days=1) #add one to make loop end on the end date\n",
    "    \n",
    "    #https://www.almanac.com/weather/history/DC/Washington/1951-11-04\n",
    "    lookup_URL = 'https://www.almanac.com/weather/history/DC/Washington/{}-{}-{}'\n",
    "    \n",
    "    #String to store data\n",
    "    str_data = ''\n",
    "    \n",
    "#    UA = sample(UAs,1)\n",
    "#    print(UA)\n",
    "    \n",
    "    #Cycle through every date to extract .html\n",
    "    while current_date != end_date:\n",
    "\n",
    "        if current_date.day == 1:\n",
    "            print(str(current_date))\n",
    "        \n",
    "        formatted_lookup_URL = lookup_URL.format(current_date.year,\n",
    "                                                 current_date.month,\n",
    "                                                 current_date.day)\n",
    "        \n",
    "        try:\n",
    "            req = Request(formatted_lookup_URL, headers={'User-Agent': 'Mozilla/5.0'})\n",
    "            str_html = urlopen(req).read().decode('utf-8')\n",
    "            \n",
    "            str_data += str(current_date)\n",
    "            ind_next_missing = str_html.find('class=\"nullvalue\">')\n",
    "            for measurement in Measurements:\n",
    "                ind = str_html.find(measurement)\n",
    "                str_html = str_html[ind:]\n",
    "                if ind_next_missing > 0:\n",
    "                    #Update missing index to account for front-truncated string\n",
    "                    ind_next_missing = str_html.find('class=\"nullvalue\">') \n",
    "                    if ind_next_missing < str_html.find('class=\"value\">'):\n",
    "                        ind = ind_next_missing\n",
    "                        str_html = str_html[ind+len('class=\"nullvalue\">'):]\n",
    "                        #Update possible missing index not to miss it next time\n",
    "                        ind_next_missing = str_html.find('class=\"nullvalue\">') \n",
    "                    else:\n",
    "                        ind = str_html.find('class=\"value\">')\n",
    "                        str_html = str_html[ind+len('class=\"value\">'):]\n",
    "                else:\n",
    "                    ind = str_html.find('class=\"value\">')\n",
    "                    str_html = str_html[ind+len('class=\"value\">'):]\n",
    "                ind = str_html.find('<')\n",
    "                str_data += ',' + str_html[:ind]\n",
    "            str_data +='\\n'\n",
    "\n",
    "            current_date += timedelta(days=1)  \n",
    "            \n",
    "        except:\n",
    "            print(str_data)\n",
    "            current_date = current_date\n",
    "            \n",
    "            UA = sample(UAs,1)\n",
    "            \n",
    "            #Wait, too many requests were made\n",
    "            time.sleep(3) \n",
    "          \n",
    "    print(str_data)\n",
    "    #with open(out_file_name, 'w') as out_file:\n",
    "    #    out_file.write(str_data)\n",
    "\n",
    "        "
   ]
  },
  {
   "cell_type": "code",
   "execution_count": null,
   "metadata": {},
   "outputs": [],
   "source": [
    "start = time.time()\n",
    "scrape_weather(begin_date, end_date, Measurements, UAs)\n",
    "elapsed = time.time()-start\n",
    "print('elapsed time: ' + str(elapsed))"
   ]
  },
  {
   "cell_type": "code",
   "execution_count": 133,
   "metadata": {},
   "outputs": [],
   "source": [
    "UAs = ['Mozilla/5.0 (Windows; U; Windows NT 5.1; en-US) AppleWebKit/525.19 (KHTML, like Gecko) Chrome/1.0.154.53 Safari/525.19',\n",
    "'Mozilla/5.0 (Windows; U; Windows NT 5.1; en-US) AppleWebKit/525.19 (KHTML, like Gecko) Chrome/1.0.154.36 Safari/525.19',\n",
    "'Mozilla/5.0 (Windows; U; Windows NT 6.1; en-US) AppleWebKit/534.10 (KHTML, like Gecko) Chrome/7.0.540.0 Safari/534.10',\n",
    "'Mozilla/5.0 (Windows; U; Windows NT 5.2; en-US) AppleWebKit/534.4 (KHTML, like Gecko) Chrome/6.0.481.0 Safari/534.4',\n",
    "'Mozilla/5.0 (Macintosh; U; Intel Mac OS X; en-US) AppleWebKit/533.4 (KHTML, like Gecko) Chrome/5.0.375.86 Safari/533.4',\n",
    "'Mozilla/5.0 (Windows; U; Windows NT 5.1; en-US) AppleWebKit/532.2 (KHTML, like Gecko) Chrome/4.0.223.3 Safari/532.2',\n",
    "'Mozilla/5.0 (Windows; U; Windows NT 6.1; en-US) AppleWebKit/532.0 (KHTML, like Gecko) Chrome/4.0.201.1 Safari/532.0',\n",
    "'Mozilla/5.0 (Windows; U; Windows NT 5.2; en-US) AppleWebKit/532.0 (KHTML, like Gecko) Chrome/3.0.195.27 Safari/532.0',\n",
    "'Mozilla/5.0 (Windows; U; Windows NT 5.1; en-US) AppleWebKit/530.5 (KHTML, like Gecko) Chrome/2.0.173.1 Safari/530.5',\n",
    "'Mozilla/5.0 (Windows; U; Windows NT 5.2; en-US) AppleWebKit/534.10 (KHTML, like Gecko) Chrome/8.0.558.0 Safari/534.10',\n",
    "'Mozilla/5.0 (X11; U; Linux x86_64; en-US) AppleWebKit/540.0 (KHTML,like Gecko) Chrome/9.1.0.0 Safari/540.0',\n",
    "'Mozilla/5.0 (Windows; U; Windows NT 5.1; en-US) AppleWebKit/534.14 (KHTML, like Gecko) Chrome/9.0.600.0 Safari/534.14',\n",
    "'Mozilla/5.0 (X11; U; Windows NT 6; en-US) AppleWebKit/534.12 (KHTML, like Gecko) Chrome/9.0.587.0 Safari/534.12',\n",
    "'Mozilla/5.0 (Windows; U; Windows NT 6.1; en-US) AppleWebKit/534.13 (KHTML, like Gecko) Chrome/9.0.597.0 Safari/534.13',\n",
    "'Mozilla/5.0 (Windows; U; Windows NT 6.1; en-US) AppleWebKit/534.16 (KHTML, like Gecko) Chrome/10.0.648.11 Safari/534.16',\n",
    "'Mozilla/5.0 (Windows; U; Windows NT 6.0; en-US) AppleWebKit/534.20 (KHTML, like Gecko) Chrome/11.0.672.2 Safari/534.20',\n",
    "'Mozilla/5.0 (Windows NT 6.0) AppleWebKit/535.1 (KHTML, like Gecko) Chrome/14.0.792.0 Safari/535.1',\n",
    "'Mozilla/5.0 (Windows NT 5.1) AppleWebKit/535.2 (KHTML, like Gecko) Chrome/15.0.872.0 Safari/535.2',\n",
    "'Mozilla/5.0 (Windows NT 6.1; WOW64) AppleWebKit/535.7 (KHTML, like Gecko) Chrome/16.0.912.36 Safari/535.7',\n",
    "'Mozilla/5.0 (Windows NT 6.0; WOW64) AppleWebKit/535.11 (KHTML, like Gecko) Chrome/17.0.963.66 Safari/535.11',\n",
    "'Mozilla/5.0 (Macintosh; Intel Mac OS X 10_6_8) AppleWebKit/535.19 (KHTML, like Gecko) Chrome/18.0.1025.45 Safari/535.19',\n",
    "'Mozilla/5.0 (Windows NT 6.2; WOW64) AppleWebKit/535.24 (KHTML, like Gecko) Chrome/19.0.1055.1 Safari/535.24',\n",
    "'Mozilla/5.0 (Windows NT 6.2) AppleWebKit/536.6 (KHTML, like Gecko) Chrome/20.0.1090.0 Safari/536.6',\n",
    "'Mozilla/5.0 (Windows NT 6.1; WOW64) AppleWebKit/537.1 (KHTML, like Gecko) Chrome/22.0.1207.1 Safari/537.1',\n",
    "'Mozilla/5.0 (Windows NT 6.2; WOW64) AppleWebKit/537.15 (KHTML, like Gecko) Chrome/24.0.1295.0 Safari/537.15',\n",
    "'Mozilla/5.0 (Windows NT 6.1; WOW64) AppleWebKit/537.36 (KHTML, like Gecko) Chrome/27.0.1453.93 Safari/537.36',\n",
    "'Mozilla/5.0 (Windows NT 6.2) AppleWebKit/537.36 (KHTML, like Gecko) Chrome/28.0.1467.0 Safari/537.36',\n",
    "'Mozilla/5.0 (Windows NT 6.3; WOW64) AppleWebKit/537.36 (KHTML, like Gecko) Chrome/30.0.1599.101 Safari/537.36',\n",
    "'Mozilla/5.0 (Windows NT 6.1; WOW64) AppleWebKit/537.36 (KHTML, like Gecko) Chrome/31.0.1623.0 Safari/537.36',\n",
    "'Mozilla/5.0 (Windows NT 6.2; WOW64) AppleWebKit/537.36 (KHTML, like Gecko) Chrome/34.0.1847.116 Safari/537.36',\n",
    "'Mozilla/5.0 (Windows NT 6.1; WOW64) AppleWebKit/537.36 (KHTML, like Gecko) Chrome/37.0.2062.103 Safari/537.36',\n",
    "'Mozilla/5.0 (Macintosh; Intel Mac OS X 10_10_2) AppleWebKit/537.36 (KHTML, like Gecko) Chrome/40.0.2214.38 Safari/537.36',\n",
    "'Mozilla/5.0 (Windows NT 6.1; WOW64) AppleWebKit/537.36 (KHTML, like Gecko) Chrome/46.0.2490.71 Safari/537.36',\n",
    "'Mozilla/5.0 (Windows NT 6.1; WOW64) AppleWebKit/537.36 (KHTML, like Gecko) Chrome/51.0.2704.103 Safari/537.36',\n",
    "'Mozilla/5.0 (Windows NT 6.1; Win64; x64) AppleWebKit/537.36 (KHTML, like Gecko) Chrome/62.0.3202.62 Safari/537.36',\n",
    "'Mozilla/5.0 (Windows NT 10.0; Win64; x64) AppleWebKit/537.36 (KHTML, like Gecko) Chrome/72.0.3626.121 Safari/537.36']"
   ]
  },
  {
   "cell_type": "code",
   "execution_count": null,
   "metadata": {},
   "outputs": [],
   "source": []
  }
 ],
 "metadata": {
  "kernelspec": {
   "display_name": "Python 3",
   "language": "python",
   "name": "python3"
  },
  "language_info": {
   "codemirror_mode": {
    "name": "ipython",
    "version": 3
   },
   "file_extension": ".py",
   "mimetype": "text/x-python",
   "name": "python",
   "nbconvert_exporter": "python",
   "pygments_lexer": "ipython3",
   "version": "3.6.5"
  }
 },
 "nbformat": 4,
 "nbformat_minor": 2
}
