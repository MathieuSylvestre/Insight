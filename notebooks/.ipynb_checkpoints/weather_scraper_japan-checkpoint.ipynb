{
 "cells": [
  {
   "cell_type": "code",
   "execution_count": 1,
   "metadata": {},
   "outputs": [],
   "source": [
    "import os\n",
    "from datetime import datetime, timedelta\n",
    "from urllib.request import Request, urlopen\n",
    "from random import sample \n",
    "import time\n",
    "import calendar"
   ]
  },
  {
   "cell_type": "code",
   "execution_count": 2,
   "metadata": {},
   "outputs": [],
   "source": [
    "Measurements = ['\\\"desc\\\"','\\\"temp\\\"','\\\"templow\\\"','\\\"baro\\\"','\\\"wind\\\"','\\\"wd\\\"','\\\"hum\\\"']"
   ]
  },
  {
   "cell_type": "code",
   "execution_count": 3,
   "metadata": {},
   "outputs": [],
   "source": [
    "begin_date = '2009-09-01'\n",
    "end_date = '2010-10-01'"
   ]
  },
  {
   "cell_type": "code",
   "execution_count": null,
   "metadata": {},
   "outputs": [],
   "source": [
    "def scrape_weather(year, begin_date, end_date, Measurements):\n",
    "    \n",
    "    current_date = datetime.strptime(begin_date, \"%Y-%m-%d\")\n",
    "    end_date = datetime.strptime(end_date, \"%Y-%m-%d\")+timedelta(months=1) #add one to make loop end on the end date\n",
    "    \n",
    "    #https://www.almanac.com/weather/history/DC/Washington/1951-11-04\n",
    "    lookup_URL = 'https://www.timeanddate.com/weather/japan/sapporo/historic?month={}&year={}'\n",
    "    \n",
    "    #String to store data\n",
    "    str_data = ''\n",
    "    \n",
    "    #Cycle through every date to extract .html\n",
    "    while current_date != end_date:\n",
    "        \n",
    "        formatted_lookup_URL = lookup_URL.format(current_date.month,\n",
    "                                                 current_date.year)\n",
    "        str_month = current_date.strftime(\"%B\")\n",
    "        \n",
    "        try:\n",
    "            req = Request(formatted_lookup_URL, headers={'User-Agent': 'Mozilla/5.0'})\n",
    "            str_html = urlopen(req).read().decode('utf-8')\n",
    "            \n",
    "            for i in range(1,calendar.monthrange(current_date.year,current_date.month)[1]+1):\n",
    "                index = str_html.find(str_month + str(i))\n",
    "                str_html = str_html[index:]\n",
    "                \n",
    "                str_data += current_date.strftime(\"%Y-%m\") + '-' + str(i)\n",
    "                \n",
    "                #for each day, there are 4 time periods\n",
    "                for j in range(4):\n",
    "                    for measurement in Measurements:\n",
    "                        index = str_html.find(measurement)\n",
    "                        str_html = str_html[index:]\n",
    "                        index = str_html.find(':')\n",
    "                        str_html = str_html[index+1:]\n",
    "                        index = str_html.find(',')\n",
    "                        str_data += ',' + str_html[:index]\n",
    "                        \n",
    "                str_data+='\\n'\n",
    "\n",
    "            current_date += timedelta(months=1)  \n",
    "            \n",
    "        except:\n",
    "            print(str_data)\n",
    "            current_date = current_date\n",
    "            \n",
    "            UA = sample(UAs,1)\n",
    "            \n",
    "            #Wait, too many requests were made\n",
    "            time.sleep(60)\n",
    "          \n",
    "    print(str_data)\n",
    "    #with open(out_file_name, 'w') as out_file:\n",
    "    #    out_file.write(str_data)"
   ]
  }
 ],
 "metadata": {
  "kernelspec": {
   "display_name": "Python 3",
   "language": "python",
   "name": "python3"
  },
  "language_info": {
   "codemirror_mode": {
    "name": "ipython",
    "version": 3
   },
   "file_extension": ".py",
   "mimetype": "text/x-python",
   "name": "python",
   "nbconvert_exporter": "python",
   "pygments_lexer": "ipython3",
   "version": "3.6.5"
  }
 },
 "nbformat": 4,
 "nbformat_minor": 2
}
