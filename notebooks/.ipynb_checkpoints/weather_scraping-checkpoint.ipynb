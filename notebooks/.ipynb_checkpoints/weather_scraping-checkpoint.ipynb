{
 "cells": [
  {
   "cell_type": "code",
   "execution_count": 3,
   "metadata": {},
   "outputs": [
    {
     "name": "stdout",
     "output_type": "stream",
     "text": [
      "README.md      \u001b[34mdata\u001b[m\u001b[m           \u001b[34mprojectname\u001b[m\u001b[m    \u001b[34mwund_html\u001b[m\u001b[m\r\n",
      "Untitled.ipynb \u001b[34mnotebooks\u001b[m\u001b[m      \u001b[34mscripts\u001b[m\u001b[m\r\n"
     ]
    }
   ],
   "source": [
    "!ls"
   ]
  },
  {
   "cell_type": "code",
   "execution_count": 2,
   "metadata": {},
   "outputs": [],
   "source": [
    "import os\n",
    "if not os.path.exists('wund_html'):\n",
    "    os.mkdir('wund_html')"
   ]
  },
  {
   "cell_type": "code",
   "execution_count": 4,
   "metadata": {},
   "outputs": [],
   "source": [
    "stations = [\"KMDW\"]\n",
    "for station in stations:\n",
    "    os.mkdir('wund_html/'+station)"
   ]
  },
  {
   "cell_type": "code",
   "execution_count": 28,
   "metadata": {},
   "outputs": [],
   "source": [
    "from datetime import datetime, timedelta\n",
    "from urllib.request import Request, urlopen"
   ]
  },
  {
   "cell_type": "code",
   "execution_count": 37,
   "metadata": {},
   "outputs": [],
   "source": [
    "def scrape_station(station, begin_date, end_date):\n",
    "    current_date = datetime.strptime(begin_date, \"%Y-%m-%d\")\n",
    "    end_date = datetime.strptime(end_date, \"%Y-%m-%d\")+timedelta(days=1) #add one to make loop end on the end date\n",
    "    \n",
    "    # Use .format(station, YYYY, M, D)\n",
    "    lookup_URL = 'https://www.wunderground.com/history/daily/us/il/chicago/{}/date/{}-{}-{}'\n",
    "\n",
    "    #Cycle through every date to extract .html\n",
    "    while current_date != end_date:\n",
    "\n",
    "        if current_date.day == 1:\n",
    "            print(str(current_date)+\" \"+str(station))\n",
    "\n",
    "        formatted_lookup_URL = lookup_URL.format(station,\n",
    "                                                 current_date.year,\n",
    "                                                 current_date.month,\n",
    "                                                 current_date.day)\n",
    "        \n",
    "        req = Request(formatted_lookup_URL, headers={'User-Agent': 'Mozilla/5.0'})\n",
    "        html = urlopen(req).read().decode('utf-8')\n",
    "\n",
    "        out_file_name = 'wund_html/{}/{}-{}-{}.html'.format(station, current_date.year,\n",
    "                                                  current_date.month,\n",
    "                                                  current_date.day)\n",
    "\n",
    "        #Store .html to parse later\n",
    "        with open(out_file_name, 'w') as out_file:\n",
    "            out_file.write(html)\n",
    "\n",
    "        current_date += timedelta(days=1)"
   ]
  },
  {
   "cell_type": "code",
   "execution_count": 39,
   "metadata": {},
   "outputs": [],
   "source": [
    "begin_date = '2018-11-01'\n",
    "end_date = '2019-09-01'"
   ]
  },
  {
   "cell_type": "code",
   "execution_count": 40,
   "metadata": {},
   "outputs": [
    {
     "name": "stdout",
     "output_type": "stream",
     "text": [
      "2018-11-01 00:00:00 KMDW\n",
      "2018-12-01 00:00:00 KMDW\n",
      "2019-01-01 00:00:00 KMDW\n",
      "2019-02-01 00:00:00 KMDW\n",
      "2019-03-01 00:00:00 KMDW\n",
      "2019-04-01 00:00:00 KMDW\n",
      "2019-05-01 00:00:00 KMDW\n",
      "2019-06-01 00:00:00 KMDW\n",
      "2019-07-01 00:00:00 KMDW\n",
      "2019-08-01 00:00:00 KMDW\n",
      "2019-09-01 00:00:00 KMDW\n"
     ]
    }
   ],
   "source": [
    "for station in stations:\n",
    "        scrape_station(station, begin_date, end_date)"
   ]
  }
 ],
 "metadata": {
  "kernelspec": {
   "display_name": "Python 3",
   "language": "python",
   "name": "python3"
  },
  "language_info": {
   "codemirror_mode": {
    "name": "ipython",
    "version": 3
   },
   "file_extension": ".py",
   "mimetype": "text/x-python",
   "name": "python",
   "nbconvert_exporter": "python",
   "pygments_lexer": "ipython3",
   "version": "3.6.5"
  }
 },
 "nbformat": 4,
 "nbformat_minor": 2
}
