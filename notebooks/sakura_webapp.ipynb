{
 "cells": [
  {
   "cell_type": "code",
   "execution_count": 56,
   "metadata": {},
   "outputs": [],
   "source": [
    "from IPython.display import display\n",
    "from ipywidgets import interact, interactive, fixed, interact_manual\n",
    "from ipywidgets import GridspecLayout, Button, Layout\n",
    "import ipywidgets as widgets\n",
    "import datetime as dt\n",
    "from datetime import timedelta\n",
    "import numpy as np\n",
    "import matplotlib.pyplot as plt\n",
    "import matplotlib.dates as mdates"
   ]
  },
  {
   "cell_type": "code",
   "execution_count": 57,
   "metadata": {},
   "outputs": [],
   "source": [
    "city_dropdown = widgets.Dropdown(\n",
    "    options=[('Kyoto','japan/Kyoto'), ('Toronto', 'canada/Toronto'), ('Washington','usa/Washington')],\n",
    "    value='japan/Kyoto',\n",
    "    description='City:',\n",
    "    disabled=False,\n",
    ")"
   ]
  },
  {
   "cell_type": "code",
   "execution_count": 58,
   "metadata": {},
   "outputs": [
    {
     "data": {
      "application/vnd.jupyter.widget-view+json": {
       "model_id": "f17fca014c10461794cfcd3410948707",
       "version_major": 2,
       "version_minor": 0
      },
      "text/plain": [
       "Dropdown(description='City:', options=(('Kyoto', 'japan/Kyoto'), ('Toronto', 'canada/Toronto'), ('Washington',…"
      ]
     },
     "metadata": {},
     "output_type": "display_data"
    }
   ],
   "source": [
    "display(city_dropdown)"
   ]
  },
  {
   "cell_type": "code",
   "execution_count": 66,
   "metadata": {},
   "outputs": [
    {
     "name": "stdout",
     "output_type": "stream",
     "text": [
      "Showing 10 most recent predictions for Kyoto\n",
      "Upcoming peak bloom in Kyoto expected on 11 October, 2019\n"
     ]
    },
    {
     "data": {
      "image/png": "[encoded data removed]",
      "text/plain": [
       "<Figure size 432x288 with 1 Axes>"
      ]
     },
     "metadata": {
      "needs_background": "light"
     },
     "output_type": "display_data"
    }
   ],
   "source": [
    "country_city = city_dropdown.value\n",
    "#Next level - update data every day (once, at midnight, for the set of cities I use)\n",
    "\n",
    "#Next level - go scrape data each time you choose a location (doesn't need to be from list)\n",
    "#get weather of 50 previous days from Washington\n",
    "\n",
    "    #scrape weather data from desired location\n",
    "    #process data\n",
    "    #get predictions of past 10 days\n",
    "\n",
    "#For now: show predictions for each city that are stored in memory\n",
    "city = country_city.split(r'/',1)[1]\n",
    "\n",
    "#TODO: lookup predictions for selected city\n",
    "x = np.arange(50)\n",
    "y = np.flip(np.arange(50))+np.ones(50)*16\n",
    "\n",
    "number_of_predictions = 10\n",
    "\n",
    "print('Showing ' + str(number_of_predictions) + ' most recent predictions for ' + city)\n",
    "\n",
    "#show plot of recent predictions\n",
    "plt.scatter(x[len(x)-number_of_predictions:],y[len(x)-number_of_predictions:])\n",
    "#plt.xlabel('Days')\n",
    "plt.ylabel('Predicted number of to Peak Bloom')\n",
    "\n",
    "plt.gca().xaxis.set_major_formatter(mdates.DateFormatter('%d %B'))#(mdates.DateFormatter('%m/%d/%Y'))\n",
    "plt.gca().xaxis.set_major_locator(mdates.DayLocator())\n",
    "\n",
    "#plt.plot(x,y)\n",
    "#plt.figure(figsize=(20,10))\n",
    "\n",
    "plt.scatter(x[len(x)-number_of_predictions:],y[len(x)-number_of_predictions:])\n",
    "plt.gcf().autofmt_xdate()\n",
    "\n",
    "predicted_date = dt.date.today() + timedelta(days = int(y[-1]))\n",
    "print('Upcoming peak bloom in ' + city + ' expected on ' + predicted_date.strftime(\"%d %B, %Y\"))"
   ]
  },
  {
   "cell_type": "code",
   "execution_count": null,
   "metadata": {},
   "outputs": [],
   "source": []
  }
 ],
 "metadata": {
  "kernelspec": {
   "display_name": "Python 3",
   "language": "python",
   "name": "python3"
  },
  "language_info": {
   "codemirror_mode": {
    "name": "ipython",
    "version": 3
   },
   "file_extension": ".py",
   "mimetype": "text/x-python",
   "name": "python",
   "nbconvert_exporter": "python",
   "pygments_lexer": "ipython3",
   "version": "3.6.8"
  }
 },
 "nbformat": 4,
 "nbformat_minor": 2
}
